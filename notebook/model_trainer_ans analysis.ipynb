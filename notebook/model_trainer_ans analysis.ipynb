{
 "cells": [
  {
   "cell_type": "markdown",
   "metadata": {},
   "source": [
    "### Model Building"
   ]
  },
  {
   "cell_type": "code",
   "execution_count": 3,
   "metadata": {},
   "outputs": [],
   "source": [
    "import pandas as pd\n",
    "import numpy as np\n",
    "import matplotlib.pyplot as plt\n",
    "import seaborn as sns\n",
    "import os\n",
    "from sklearn.preprocessing import StandardScaler\n",
    "from sklearn.linear_model import LinearRegression\n",
    "from sklearn.model_selection import cross_val_score\n"
   ]
  },
  {
   "cell_type": "code",
   "execution_count": 4,
   "metadata": {},
   "outputs": [],
   "source": [
    "os.getcwd()\n",
    "os.chdir('../')"
   ]
  },
  {
   "cell_type": "code",
   "execution_count": 27,
   "metadata": {},
   "outputs": [
    {
     "name": "stdout",
     "output_type": "stream",
     "text": [
      "<class 'pandas.core.frame.DataFrame'>\n",
      "Int64Index: 506 entries, 1 to 506\n",
      "Data columns (total 14 columns):\n",
      " #   Column   Non-Null Count  Dtype  \n",
      "---  ------   --------------  -----  \n",
      " 0   crim     506 non-null    float64\n",
      " 1   zn       506 non-null    float64\n",
      " 2   indus    506 non-null    float64\n",
      " 3   chas     506 non-null    int64  \n",
      " 4   nox      506 non-null    float64\n",
      " 5   rm       506 non-null    float64\n",
      " 6   age      506 non-null    float64\n",
      " 7   dis      506 non-null    float64\n",
      " 8   rad      506 non-null    int64  \n",
      " 9   tax      506 non-null    int64  \n",
      " 10  ptratio  506 non-null    float64\n",
      " 11  black    506 non-null    float64\n",
      " 12  lstat    506 non-null    float64\n",
      " 13  medv     506 non-null    float64\n",
      "dtypes: float64(11), int64(3)\n",
      "memory usage: 59.3 KB\n"
     ]
    }
   ],
   "source": [
    "df= pd.read_csv('data/Boston.csv',index_col='Unnamed: 0')\n",
    "df.info()"
   ]
  },
  {
   "cell_type": "code",
   "execution_count": 6,
   "metadata": {},
   "outputs": [],
   "source": [
    "pred_col= ['indus', 'nox', 'rm', 'tax', 'ptratio', 'lstat', 'dis' , 'age' ]\n",
    "target_var=['medv']\n",
    "## using log transformation for lstat, nox, ptratio, dis\n",
    "df['lstat']= np.log(df['lstat'])\n",
    "\n",
    "df['ptratio']= np.log(df['ptratio'])\n",
    "df['dis']= np.log(df['dis'])"
   ]
  },
  {
   "cell_type": "code",
   "execution_count": 8,
   "metadata": {},
   "outputs": [
    {
     "data": {
      "text/plain": [
       "((404, 8), (102, 8), (404, 1), (102, 1))"
      ]
     },
     "execution_count": 8,
     "metadata": {},
     "output_type": "execute_result"
    }
   ],
   "source": [
    "from sklearn.model_selection import train_test_split\n",
    "\n",
    "x= df[pred_col]\n",
    "y=df[target_var]\n",
    "\n",
    "x_train, x_test, y_train, y_test= train_test_split(x, y , test_size=0.2)\n",
    "x_train.shape, x_test.shape, y_train.shape, y_test.shape"
   ]
  },
  {
   "cell_type": "code",
   "execution_count": 11,
   "metadata": {},
   "outputs": [
    {
     "data": {
      "text/plain": [
       "array([0.74848541, 0.72946562, 0.7600978 , 0.75870403, 0.80919565])"
      ]
     },
     "execution_count": 11,
     "metadata": {},
     "output_type": "execute_result"
    }
   ],
   "source": [
    "transformer= StandardScaler()\n",
    "transformer.fit(x_train)\n",
    "x_train_trans= transformer.transform(x_train)\n",
    "x_test_trans= transformer.transform(x_test)\n",
    "\n",
    "cv_scores= cross_val_score(LinearRegression(), X=x_train_trans, y=y_train)\n",
    "cv_scores"
   ]
  },
  {
   "cell_type": "markdown",
   "metadata": {},
   "source": [
    "### Regression Analysis"
   ]
  },
  {
   "cell_type": "code",
   "execution_count": 22,
   "metadata": {},
   "outputs": [
    {
     "data": {
      "text/html": [
       "<table class=\"simpletable\">\n",
       "<caption>OLS Regression Results</caption>\n",
       "<tr>\n",
       "  <th>Dep. Variable:</th>          <td>medv</td>       <th>  R-squared:         </th> <td>   0.775</td> \n",
       "</tr>\n",
       "<tr>\n",
       "  <th>Model:</th>                   <td>OLS</td>       <th>  Adj. R-squared:    </th> <td>   0.770</td> \n",
       "</tr>\n",
       "<tr>\n",
       "  <th>Method:</th>             <td>Least Squares</td>  <th>  F-statistic:       </th> <td>   169.7</td> \n",
       "</tr>\n",
       "<tr>\n",
       "  <th>Date:</th>             <td>Tue, 18 Jul 2023</td> <th>  Prob (F-statistic):</th> <td>9.59e-123</td>\n",
       "</tr>\n",
       "<tr>\n",
       "  <th>Time:</th>                 <td>22:30:03</td>     <th>  Log-Likelihood:    </th> <td> -1166.7</td> \n",
       "</tr>\n",
       "<tr>\n",
       "  <th>No. Observations:</th>      <td>   404</td>      <th>  AIC:               </th> <td>   2351.</td> \n",
       "</tr>\n",
       "<tr>\n",
       "  <th>Df Residuals:</th>          <td>   395</td>      <th>  BIC:               </th> <td>   2387.</td> \n",
       "</tr>\n",
       "<tr>\n",
       "  <th>Df Model:</th>              <td>     8</td>      <th>                     </th>     <td> </td>    \n",
       "</tr>\n",
       "<tr>\n",
       "  <th>Covariance Type:</th>      <td>nonrobust</td>    <th>                     </th>     <td> </td>    \n",
       "</tr>\n",
       "</table>\n",
       "<table class=\"simpletable\">\n",
       "<tr>\n",
       "    <td></td>       <th>coef</th>     <th>std err</th>      <th>t</th>      <th>P>|t|</th>  <th>[0.025</th>    <th>0.975]</th>  \n",
       "</tr>\n",
       "<tr>\n",
       "  <th>const</th> <td>   22.4168</td> <td>    0.219</td> <td>  102.548</td> <td> 0.000</td> <td>   21.987</td> <td>   22.847</td>\n",
       "</tr>\n",
       "<tr>\n",
       "  <th>x1</th>    <td>   -0.2229</td> <td>    0.417</td> <td>   -0.534</td> <td> 0.594</td> <td>   -1.043</td> <td>    0.598</td>\n",
       "</tr>\n",
       "<tr>\n",
       "  <th>x2</th>    <td>   -2.4191</td> <td>    0.511</td> <td>   -4.735</td> <td> 0.000</td> <td>   -3.424</td> <td>   -1.415</td>\n",
       "</tr>\n",
       "<tr>\n",
       "  <th>x3</th>    <td>    1.9852</td> <td>    0.309</td> <td>    6.417</td> <td> 0.000</td> <td>    1.377</td> <td>    2.593</td>\n",
       "</tr>\n",
       "<tr>\n",
       "  <th>x4</th>    <td>   -0.3863</td> <td>    0.354</td> <td>   -1.092</td> <td> 0.276</td> <td>   -1.082</td> <td>    0.309</td>\n",
       "</tr>\n",
       "<tr>\n",
       "  <th>x5</th>    <td>   -1.5145</td> <td>    0.267</td> <td>   -5.677</td> <td> 0.000</td> <td>   -2.039</td> <td>   -0.990</td>\n",
       "</tr>\n",
       "<tr>\n",
       "  <th>x6</th>    <td>   -5.8726</td> <td>    0.388</td> <td>  -15.136</td> <td> 0.000</td> <td>   -6.635</td> <td>   -5.110</td>\n",
       "</tr>\n",
       "<tr>\n",
       "  <th>x7</th>    <td>   -3.3603</td> <td>    0.484</td> <td>   -6.946</td> <td> 0.000</td> <td>   -4.311</td> <td>   -2.409</td>\n",
       "</tr>\n",
       "<tr>\n",
       "  <th>x8</th>    <td>    0.4617</td> <td>    0.407</td> <td>    1.134</td> <td> 0.258</td> <td>   -0.339</td> <td>    1.263</td>\n",
       "</tr>\n",
       "</table>\n",
       "<table class=\"simpletable\">\n",
       "<tr>\n",
       "  <th>Omnibus:</th>       <td>112.315</td> <th>  Durbin-Watson:     </th> <td>   2.003</td> \n",
       "</tr>\n",
       "<tr>\n",
       "  <th>Prob(Omnibus):</th> <td> 0.000</td>  <th>  Jarque-Bera (JB):  </th> <td> 462.280</td> \n",
       "</tr>\n",
       "<tr>\n",
       "  <th>Skew:</th>          <td> 1.162</td>  <th>  Prob(JB):          </th> <td>4.14e-101</td>\n",
       "</tr>\n",
       "<tr>\n",
       "  <th>Kurtosis:</th>      <td> 7.697</td>  <th>  Cond. No.          </th> <td>    6.14</td> \n",
       "</tr>\n",
       "</table><br/><br/>Notes:<br/>[1] Standard Errors assume that the covariance matrix of the errors is correctly specified."
      ],
      "text/plain": [
       "<class 'statsmodels.iolib.summary.Summary'>\n",
       "\"\"\"\n",
       "                            OLS Regression Results                            \n",
       "==============================================================================\n",
       "Dep. Variable:                   medv   R-squared:                       0.775\n",
       "Model:                            OLS   Adj. R-squared:                  0.770\n",
       "Method:                 Least Squares   F-statistic:                     169.7\n",
       "Date:                Tue, 18 Jul 2023   Prob (F-statistic):          9.59e-123\n",
       "Time:                        22:30:03   Log-Likelihood:                -1166.7\n",
       "No. Observations:                 404   AIC:                             2351.\n",
       "Df Residuals:                     395   BIC:                             2387.\n",
       "Df Model:                           8                                         \n",
       "Covariance Type:            nonrobust                                         \n",
       "==============================================================================\n",
       "                 coef    std err          t      P>|t|      [0.025      0.975]\n",
       "------------------------------------------------------------------------------\n",
       "const         22.4168      0.219    102.548      0.000      21.987      22.847\n",
       "x1            -0.2229      0.417     -0.534      0.594      -1.043       0.598\n",
       "x2            -2.4191      0.511     -4.735      0.000      -3.424      -1.415\n",
       "x3             1.9852      0.309      6.417      0.000       1.377       2.593\n",
       "x4            -0.3863      0.354     -1.092      0.276      -1.082       0.309\n",
       "x5            -1.5145      0.267     -5.677      0.000      -2.039      -0.990\n",
       "x6            -5.8726      0.388    -15.136      0.000      -6.635      -5.110\n",
       "x7            -3.3603      0.484     -6.946      0.000      -4.311      -2.409\n",
       "x8             0.4617      0.407      1.134      0.258      -0.339       1.263\n",
       "==============================================================================\n",
       "Omnibus:                      112.315   Durbin-Watson:                   2.003\n",
       "Prob(Omnibus):                  0.000   Jarque-Bera (JB):              462.280\n",
       "Skew:                           1.162   Prob(JB):                    4.14e-101\n",
       "Kurtosis:                       7.697   Cond. No.                         6.14\n",
       "==============================================================================\n",
       "\n",
       "Notes:\n",
       "[1] Standard Errors assume that the covariance matrix of the errors is correctly specified.\n",
       "\"\"\""
      ]
     },
     "execution_count": 22,
     "metadata": {},
     "output_type": "execute_result"
    }
   ],
   "source": [
    "import statsmodels.api as sm\n",
    "x_train_trans_2= pd.DataFrame(x_train_trans, columns= x_train.columns)\n",
    "X= sm.add_constant(x_train_trans)\n",
    "model= sm.OLS(y_train,X).fit()\n",
    "model.summary()"
   ]
  },
  {
   "cell_type": "code",
   "execution_count": 28,
   "metadata": {},
   "outputs": [],
   "source": [
    "from sklearn.base import BaseEstimator, TransformerMixin\n",
    "\n",
    "class LogTransformer(BaseEstimator, TransformerMixin) :\n",
    "    def __init__(self):\n",
    "        self.cols= ['lstat','nox','ptratio','dis']\n",
    "    \n",
    "    def fit(self,x):\n",
    "        return self\n",
    "    \n",
    "    def transform(self,x):\n",
    "        for var in self.cols :\n",
    "            x[var]= np.log(x[var])\n",
    "        return x\n",
    "    \n",
    "trans=LogTransformer()\n",
    "x_df= df[0:5][pred_col]"
   ]
  },
  {
   "cell_type": "code",
   "execution_count": 29,
   "metadata": {},
   "outputs": [
    {
     "data": {
      "text/html": [
       "<div>\n",
       "<style scoped>\n",
       "    .dataframe tbody tr th:only-of-type {\n",
       "        vertical-align: middle;\n",
       "    }\n",
       "\n",
       "    .dataframe tbody tr th {\n",
       "        vertical-align: top;\n",
       "    }\n",
       "\n",
       "    .dataframe thead th {\n",
       "        text-align: right;\n",
       "    }\n",
       "</style>\n",
       "<table border=\"1\" class=\"dataframe\">\n",
       "  <thead>\n",
       "    <tr style=\"text-align: right;\">\n",
       "      <th></th>\n",
       "      <th>indus</th>\n",
       "      <th>nox</th>\n",
       "      <th>rm</th>\n",
       "      <th>tax</th>\n",
       "      <th>ptratio</th>\n",
       "      <th>lstat</th>\n",
       "      <th>dis</th>\n",
       "      <th>age</th>\n",
       "    </tr>\n",
       "  </thead>\n",
       "  <tbody>\n",
       "    <tr>\n",
       "      <th>1</th>\n",
       "      <td>2.31</td>\n",
       "      <td>0.538</td>\n",
       "      <td>6.575</td>\n",
       "      <td>296</td>\n",
       "      <td>15.3</td>\n",
       "      <td>4.98</td>\n",
       "      <td>4.0900</td>\n",
       "      <td>65.2</td>\n",
       "    </tr>\n",
       "    <tr>\n",
       "      <th>2</th>\n",
       "      <td>7.07</td>\n",
       "      <td>0.469</td>\n",
       "      <td>6.421</td>\n",
       "      <td>242</td>\n",
       "      <td>17.8</td>\n",
       "      <td>9.14</td>\n",
       "      <td>4.9671</td>\n",
       "      <td>78.9</td>\n",
       "    </tr>\n",
       "    <tr>\n",
       "      <th>3</th>\n",
       "      <td>7.07</td>\n",
       "      <td>0.469</td>\n",
       "      <td>7.185</td>\n",
       "      <td>242</td>\n",
       "      <td>17.8</td>\n",
       "      <td>4.03</td>\n",
       "      <td>4.9671</td>\n",
       "      <td>61.1</td>\n",
       "    </tr>\n",
       "    <tr>\n",
       "      <th>4</th>\n",
       "      <td>2.18</td>\n",
       "      <td>0.458</td>\n",
       "      <td>6.998</td>\n",
       "      <td>222</td>\n",
       "      <td>18.7</td>\n",
       "      <td>2.94</td>\n",
       "      <td>6.0622</td>\n",
       "      <td>45.8</td>\n",
       "    </tr>\n",
       "    <tr>\n",
       "      <th>5</th>\n",
       "      <td>2.18</td>\n",
       "      <td>0.458</td>\n",
       "      <td>7.147</td>\n",
       "      <td>222</td>\n",
       "      <td>18.7</td>\n",
       "      <td>5.33</td>\n",
       "      <td>6.0622</td>\n",
       "      <td>54.2</td>\n",
       "    </tr>\n",
       "  </tbody>\n",
       "</table>\n",
       "</div>"
      ],
      "text/plain": [
       "   indus    nox     rm  tax  ptratio  lstat     dis   age\n",
       "1   2.31  0.538  6.575  296     15.3   4.98  4.0900  65.2\n",
       "2   7.07  0.469  6.421  242     17.8   9.14  4.9671  78.9\n",
       "3   7.07  0.469  7.185  242     17.8   4.03  4.9671  61.1\n",
       "4   2.18  0.458  6.998  222     18.7   2.94  6.0622  45.8\n",
       "5   2.18  0.458  7.147  222     18.7   5.33  6.0622  54.2"
      ]
     },
     "execution_count": 29,
     "metadata": {},
     "output_type": "execute_result"
    }
   ],
   "source": [
    "x_df"
   ]
  },
  {
   "cell_type": "code",
   "execution_count": 30,
   "metadata": {},
   "outputs": [
    {
     "data": {
      "text/html": [
       "<div>\n",
       "<style scoped>\n",
       "    .dataframe tbody tr th:only-of-type {\n",
       "        vertical-align: middle;\n",
       "    }\n",
       "\n",
       "    .dataframe tbody tr th {\n",
       "        vertical-align: top;\n",
       "    }\n",
       "\n",
       "    .dataframe thead th {\n",
       "        text-align: right;\n",
       "    }\n",
       "</style>\n",
       "<table border=\"1\" class=\"dataframe\">\n",
       "  <thead>\n",
       "    <tr style=\"text-align: right;\">\n",
       "      <th></th>\n",
       "      <th>indus</th>\n",
       "      <th>nox</th>\n",
       "      <th>rm</th>\n",
       "      <th>tax</th>\n",
       "      <th>ptratio</th>\n",
       "      <th>lstat</th>\n",
       "      <th>dis</th>\n",
       "      <th>age</th>\n",
       "    </tr>\n",
       "  </thead>\n",
       "  <tbody>\n",
       "    <tr>\n",
       "      <th>1</th>\n",
       "      <td>2.31</td>\n",
       "      <td>-0.619897</td>\n",
       "      <td>6.575</td>\n",
       "      <td>296</td>\n",
       "      <td>2.727853</td>\n",
       "      <td>1.605430</td>\n",
       "      <td>1.408545</td>\n",
       "      <td>65.2</td>\n",
       "    </tr>\n",
       "    <tr>\n",
       "      <th>2</th>\n",
       "      <td>7.07</td>\n",
       "      <td>-0.757153</td>\n",
       "      <td>6.421</td>\n",
       "      <td>242</td>\n",
       "      <td>2.879198</td>\n",
       "      <td>2.212660</td>\n",
       "      <td>1.602836</td>\n",
       "      <td>78.9</td>\n",
       "    </tr>\n",
       "    <tr>\n",
       "      <th>3</th>\n",
       "      <td>7.07</td>\n",
       "      <td>-0.757153</td>\n",
       "      <td>7.185</td>\n",
       "      <td>242</td>\n",
       "      <td>2.879198</td>\n",
       "      <td>1.393766</td>\n",
       "      <td>1.602836</td>\n",
       "      <td>61.1</td>\n",
       "    </tr>\n",
       "    <tr>\n",
       "      <th>4</th>\n",
       "      <td>2.18</td>\n",
       "      <td>-0.780886</td>\n",
       "      <td>6.998</td>\n",
       "      <td>222</td>\n",
       "      <td>2.928524</td>\n",
       "      <td>1.078410</td>\n",
       "      <td>1.802073</td>\n",
       "      <td>45.8</td>\n",
       "    </tr>\n",
       "    <tr>\n",
       "      <th>5</th>\n",
       "      <td>2.18</td>\n",
       "      <td>-0.780886</td>\n",
       "      <td>7.147</td>\n",
       "      <td>222</td>\n",
       "      <td>2.928524</td>\n",
       "      <td>1.673351</td>\n",
       "      <td>1.802073</td>\n",
       "      <td>54.2</td>\n",
       "    </tr>\n",
       "  </tbody>\n",
       "</table>\n",
       "</div>"
      ],
      "text/plain": [
       "   indus       nox     rm  tax   ptratio     lstat       dis   age\n",
       "1   2.31 -0.619897  6.575  296  2.727853  1.605430  1.408545  65.2\n",
       "2   7.07 -0.757153  6.421  242  2.879198  2.212660  1.602836  78.9\n",
       "3   7.07 -0.757153  7.185  242  2.879198  1.393766  1.602836  61.1\n",
       "4   2.18 -0.780886  6.998  222  2.928524  1.078410  1.802073  45.8\n",
       "5   2.18 -0.780886  7.147  222  2.928524  1.673351  1.802073  54.2"
      ]
     },
     "execution_count": 30,
     "metadata": {},
     "output_type": "execute_result"
    }
   ],
   "source": [
    "trans.fit(x_df)\n",
    "trans.transform(x_df)"
   ]
  },
  {
   "cell_type": "code",
   "execution_count": null,
   "metadata": {},
   "outputs": [],
   "source": []
  }
 ],
 "metadata": {
  "kernelspec": {
   "display_name": "bostn",
   "language": "python",
   "name": "python3"
  },
  "language_info": {
   "codemirror_mode": {
    "name": "ipython",
    "version": 3
   },
   "file_extension": ".py",
   "mimetype": "text/x-python",
   "name": "python",
   "nbconvert_exporter": "python",
   "pygments_lexer": "ipython3",
   "version": "3.7.16"
  },
  "orig_nbformat": 4
 },
 "nbformat": 4,
 "nbformat_minor": 2
}
