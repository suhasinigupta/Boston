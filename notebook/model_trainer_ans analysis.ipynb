{
 "cells": [
  {
   "cell_type": "markdown",
   "metadata": {},
   "source": [
    "### Model Building"
   ]
  },
  {
   "cell_type": "code",
   "execution_count": 1,
   "metadata": {},
   "outputs": [],
   "source": [
    "import pandas as pd\n",
    "import numpy as np\n",
    "import matplotlib.pyplot as plt\n",
    "import seaborn as sns\n",
    "import os\n",
    "from sklearn.preprocessing import StandardScaler\n",
    "from sklearn.linear_model import LinearRegression\n",
    "from sklearn.model_selection import cross_val_score "
   ]
  },
  {
   "cell_type": "code",
   "execution_count": 2,
   "metadata": {},
   "outputs": [],
   "source": [
    "os.getcwd()\n",
    "os.chdir('../')"
   ]
  },
  {
   "cell_type": "code",
   "execution_count": 3,
   "metadata": {},
   "outputs": [
    {
     "name": "stdout",
     "output_type": "stream",
     "text": [
      "<class 'pandas.core.frame.DataFrame'>\n",
      "Int64Index: 506 entries, 1 to 506\n",
      "Data columns (total 14 columns):\n",
      " #   Column   Non-Null Count  Dtype  \n",
      "---  ------   --------------  -----  \n",
      " 0   crim     506 non-null    float64\n",
      " 1   zn       506 non-null    float64\n",
      " 2   indus    506 non-null    float64\n",
      " 3   chas     506 non-null    int64  \n",
      " 4   nox      506 non-null    float64\n",
      " 5   rm       506 non-null    float64\n",
      " 6   age      506 non-null    float64\n",
      " 7   dis      506 non-null    float64\n",
      " 8   rad      506 non-null    int64  \n",
      " 9   tax      506 non-null    int64  \n",
      " 10  ptratio  506 non-null    float64\n",
      " 11  black    506 non-null    float64\n",
      " 12  lstat    506 non-null    float64\n",
      " 13  medv     506 non-null    float64\n",
      "dtypes: float64(11), int64(3)\n",
      "memory usage: 59.3 KB\n"
     ]
    }
   ],
   "source": [
    "df= pd.read_csv('data/Boston.csv',index_col='Unnamed: 0')\n",
    "df.info()"
   ]
  },
  {
   "cell_type": "code",
   "execution_count": 22,
   "metadata": {},
   "outputs": [],
   "source": [
    "pred_col= ['indus', 'nox', 'rm', 'tax', 'ptratio', 'lstat', 'dis' , 'age' ]\n",
    "target_var=['medv']\n"
   ]
  },
  {
   "cell_type": "code",
   "execution_count": 58,
   "metadata": {},
   "outputs": [],
   "source": [
    "from sklearn.model_selection import train_test_split\n",
    "\n",
    "x= df[pred_col]\n",
    "y=df[target_var]\n",
    "x_train,x_test, y_train, y_test= train_test_split(x, y, test_size=0.2)\n"
   ]
  },
  {
   "cell_type": "code",
   "execution_count": 59,
   "metadata": {},
   "outputs": [
    {
     "data": {
      "text/plain": [
       "array([0.28697446, 0.69096084, 0.76819808, 0.78250211, 0.73156866])"
      ]
     },
     "execution_count": 59,
     "metadata": {},
     "output_type": "execute_result"
    }
   ],
   "source": [
    "transformer= StandardScaler()\n",
    "transformer.fit(x_train)\n",
    "x_train_trans= transformer.transform(x_train)\n",
    "x_test_trans= transformer.transform(x_test)\n",
    "\n",
    "cv_scores= cross_val_score(LinearRegression(), X=x_train_trans, y=y_train)\n",
    "cv_scores"
   ]
  },
  {
   "cell_type": "markdown",
   "metadata": {},
   "source": [
    "### Regression Analysis"
   ]
  },
  {
   "cell_type": "code",
   "execution_count": 60,
   "metadata": {},
   "outputs": [
    {
     "data": {
      "text/html": [
       "<table class=\"simpletable\">\n",
       "<caption>OLS Regression Results</caption>\n",
       "<tr>\n",
       "  <th>Dep. Variable:</th>          <td>medv</td>       <th>  R-squared:         </th> <td>   0.703</td>\n",
       "</tr>\n",
       "<tr>\n",
       "  <th>Model:</th>                   <td>OLS</td>       <th>  Adj. R-squared:    </th> <td>   0.697</td>\n",
       "</tr>\n",
       "<tr>\n",
       "  <th>Method:</th>             <td>Least Squares</td>  <th>  F-statistic:       </th> <td>   117.1</td>\n",
       "</tr>\n",
       "<tr>\n",
       "  <th>Date:</th>             <td>Wed, 19 Jul 2023</td> <th>  Prob (F-statistic):</th> <td>2.63e-99</td>\n",
       "</tr>\n",
       "<tr>\n",
       "  <th>Time:</th>                 <td>19:41:15</td>     <th>  Log-Likelihood:    </th> <td> -1231.4</td>\n",
       "</tr>\n",
       "<tr>\n",
       "  <th>No. Observations:</th>      <td>   404</td>      <th>  AIC:               </th> <td>   2481.</td>\n",
       "</tr>\n",
       "<tr>\n",
       "  <th>Df Residuals:</th>          <td>   395</td>      <th>  BIC:               </th> <td>   2517.</td>\n",
       "</tr>\n",
       "<tr>\n",
       "  <th>Df Model:</th>              <td>     8</td>      <th>                     </th>     <td> </td>   \n",
       "</tr>\n",
       "<tr>\n",
       "  <th>Covariance Type:</th>      <td>nonrobust</td>    <th>                     </th>     <td> </td>   \n",
       "</tr>\n",
       "</table>\n",
       "<table class=\"simpletable\">\n",
       "<tr>\n",
       "    <td></td>       <th>coef</th>     <th>std err</th>      <th>t</th>      <th>P>|t|</th>  <th>[0.025</th>    <th>0.975]</th>  \n",
       "</tr>\n",
       "<tr>\n",
       "  <th>const</th> <td>   22.7290</td> <td>    0.257</td> <td>   88.584</td> <td> 0.000</td> <td>   22.225</td> <td>   23.233</td>\n",
       "</tr>\n",
       "<tr>\n",
       "  <th>x1</th>    <td>   -0.4334</td> <td>    0.498</td> <td>   -0.870</td> <td> 0.385</td> <td>   -1.412</td> <td>    0.546</td>\n",
       "</tr>\n",
       "<tr>\n",
       "  <th>x2</th>    <td>   -2.0541</td> <td>    0.536</td> <td>   -3.835</td> <td> 0.000</td> <td>   -3.107</td> <td>   -1.001</td>\n",
       "</tr>\n",
       "<tr>\n",
       "  <th>x3</th>    <td>    2.8306</td> <td>    0.344</td> <td>    8.231</td> <td> 0.000</td> <td>    2.154</td> <td>    3.507</td>\n",
       "</tr>\n",
       "<tr>\n",
       "  <th>x4</th>    <td>   -0.1944</td> <td>    0.421</td> <td>   -0.462</td> <td> 0.645</td> <td>   -1.022</td> <td>    0.633</td>\n",
       "</tr>\n",
       "<tr>\n",
       "  <th>x5</th>    <td>   -2.0892</td> <td>    0.320</td> <td>   -6.535</td> <td> 0.000</td> <td>   -2.718</td> <td>   -1.461</td>\n",
       "</tr>\n",
       "<tr>\n",
       "  <th>x6</th>    <td>   -4.2063</td> <td>    0.421</td> <td>   -9.997</td> <td> 0.000</td> <td>   -5.033</td> <td>   -3.379</td>\n",
       "</tr>\n",
       "<tr>\n",
       "  <th>x7</th>    <td>   -2.7982</td> <td>    0.470</td> <td>   -5.950</td> <td> 0.000</td> <td>   -3.723</td> <td>   -1.874</td>\n",
       "</tr>\n",
       "<tr>\n",
       "  <th>x8</th>    <td>    0.0333</td> <td>    0.450</td> <td>    0.074</td> <td> 0.941</td> <td>   -0.851</td> <td>    0.917</td>\n",
       "</tr>\n",
       "</table>\n",
       "<table class=\"simpletable\">\n",
       "<tr>\n",
       "  <th>Omnibus:</th>       <td>136.546</td> <th>  Durbin-Watson:     </th> <td>   2.013</td> \n",
       "</tr>\n",
       "<tr>\n",
       "  <th>Prob(Omnibus):</th> <td> 0.000</td>  <th>  Jarque-Bera (JB):  </th> <td> 527.697</td> \n",
       "</tr>\n",
       "<tr>\n",
       "  <th>Skew:</th>          <td> 1.467</td>  <th>  Prob(JB):          </th> <td>2.58e-115</td>\n",
       "</tr>\n",
       "<tr>\n",
       "  <th>Kurtosis:</th>      <td> 7.768</td>  <th>  Cond. No.          </th> <td>    5.27</td> \n",
       "</tr>\n",
       "</table><br/><br/>Notes:<br/>[1] Standard Errors assume that the covariance matrix of the errors is correctly specified."
      ],
      "text/plain": [
       "<class 'statsmodels.iolib.summary.Summary'>\n",
       "\"\"\"\n",
       "                            OLS Regression Results                            \n",
       "==============================================================================\n",
       "Dep. Variable:                   medv   R-squared:                       0.703\n",
       "Model:                            OLS   Adj. R-squared:                  0.697\n",
       "Method:                 Least Squares   F-statistic:                     117.1\n",
       "Date:                Wed, 19 Jul 2023   Prob (F-statistic):           2.63e-99\n",
       "Time:                        19:41:15   Log-Likelihood:                -1231.4\n",
       "No. Observations:                 404   AIC:                             2481.\n",
       "Df Residuals:                     395   BIC:                             2517.\n",
       "Df Model:                           8                                         \n",
       "Covariance Type:            nonrobust                                         \n",
       "==============================================================================\n",
       "                 coef    std err          t      P>|t|      [0.025      0.975]\n",
       "------------------------------------------------------------------------------\n",
       "const         22.7290      0.257     88.584      0.000      22.225      23.233\n",
       "x1            -0.4334      0.498     -0.870      0.385      -1.412       0.546\n",
       "x2            -2.0541      0.536     -3.835      0.000      -3.107      -1.001\n",
       "x3             2.8306      0.344      8.231      0.000       2.154       3.507\n",
       "x4            -0.1944      0.421     -0.462      0.645      -1.022       0.633\n",
       "x5            -2.0892      0.320     -6.535      0.000      -2.718      -1.461\n",
       "x6            -4.2063      0.421     -9.997      0.000      -5.033      -3.379\n",
       "x7            -2.7982      0.470     -5.950      0.000      -3.723      -1.874\n",
       "x8             0.0333      0.450      0.074      0.941      -0.851       0.917\n",
       "==============================================================================\n",
       "Omnibus:                      136.546   Durbin-Watson:                   2.013\n",
       "Prob(Omnibus):                  0.000   Jarque-Bera (JB):              527.697\n",
       "Skew:                           1.467   Prob(JB):                    2.58e-115\n",
       "Kurtosis:                       7.768   Cond. No.                         5.27\n",
       "==============================================================================\n",
       "\n",
       "Notes:\n",
       "[1] Standard Errors assume that the covariance matrix of the errors is correctly specified.\n",
       "\"\"\""
      ]
     },
     "execution_count": 60,
     "metadata": {},
     "output_type": "execute_result"
    }
   ],
   "source": [
    "import statsmodels.api as sm\n",
    "x_train_trans_2= pd.DataFrame(x_train_trans, columns= x_train.columns)\n",
    "X= sm.add_constant(x_train_trans)\n",
    "model= sm.OLS(y_train,X).fit()\n",
    "model.summary()"
   ]
  },
  {
   "cell_type": "code",
   "execution_count": 63,
   "metadata": {},
   "outputs": [
    {
     "name": "stdout",
     "output_type": "stream",
     "text": [
      "Score 0.7034013348920093\n"
     ]
    },
    {
     "data": {
      "text/plain": [
       "array([[23.45244576],\n",
       "       [24.01259088],\n",
       "       [31.64781812],\n",
       "       [19.29567909],\n",
       "       [17.71682754],\n",
       "       [24.30940846],\n",
       "       [34.04520502],\n",
       "       [38.78138924],\n",
       "       [21.5085507 ],\n",
       "       [32.50022338],\n",
       "       [18.3669227 ],\n",
       "       [20.92572754],\n",
       "       [16.9255976 ],\n",
       "       [25.15494394],\n",
       "       [21.34763408],\n",
       "       [13.3911104 ],\n",
       "       [16.43164501],\n",
       "       [17.88056252],\n",
       "       [22.08910577],\n",
       "       [21.0606168 ],\n",
       "       [17.30833499],\n",
       "       [21.57481482],\n",
       "       [38.74826284],\n",
       "       [21.35598386],\n",
       "       [39.04433035],\n",
       "       [23.86499056],\n",
       "       [ 5.72162978],\n",
       "       [22.35726205],\n",
       "       [27.78469176],\n",
       "       [28.8473271 ],\n",
       "       [24.09294341],\n",
       "       [21.19546162],\n",
       "       [33.59924562],\n",
       "       [16.99523915],\n",
       "       [21.79885329],\n",
       "       [15.59760767],\n",
       "       [27.79646957],\n",
       "       [30.22367766],\n",
       "       [21.43262168],\n",
       "       [25.62344777],\n",
       "       [29.54353174],\n",
       "       [11.38020583],\n",
       "       [24.16846817],\n",
       "       [18.98776641],\n",
       "       [22.36447438],\n",
       "       [24.43545908],\n",
       "       [16.16758978],\n",
       "       [22.06748275],\n",
       "       [25.83761381],\n",
       "       [17.35373413],\n",
       "       [21.1737101 ],\n",
       "       [14.56697861],\n",
       "       [18.78218454],\n",
       "       [22.87664314],\n",
       "       [10.43583631],\n",
       "       [27.57162849],\n",
       "       [11.27846794],\n",
       "       [11.03845838],\n",
       "       [20.3279508 ],\n",
       "       [20.2017274 ],\n",
       "       [28.01790924],\n",
       "       [26.894116  ],\n",
       "       [15.17697198],\n",
       "       [ 8.36400329],\n",
       "       [ 7.87488178],\n",
       "       [24.4799192 ],\n",
       "       [26.372488  ],\n",
       "       [14.12335391],\n",
       "       [22.00110887],\n",
       "       [24.27251251],\n",
       "       [18.77775561],\n",
       "       [25.35479999],\n",
       "       [30.68618935],\n",
       "       [18.17183392],\n",
       "       [15.25810438],\n",
       "       [20.42341907],\n",
       "       [18.43641612],\n",
       "       [34.4730163 ],\n",
       "       [ 6.71973427],\n",
       "       [17.65214245],\n",
       "       [29.76745933],\n",
       "       [27.7453895 ],\n",
       "       [24.57894601],\n",
       "       [14.09962067],\n",
       "       [20.53212055],\n",
       "       [32.79047267],\n",
       "       [ 9.77978211],\n",
       "       [18.20925205],\n",
       "       [25.76521467],\n",
       "       [26.41052633],\n",
       "       [17.89818319],\n",
       "       [32.5831901 ],\n",
       "       [19.34436259],\n",
       "       [16.83372568],\n",
       "       [17.81684073],\n",
       "       [26.51082845],\n",
       "       [14.8861796 ],\n",
       "       [16.43912935],\n",
       "       [29.24721106],\n",
       "       [20.62001958],\n",
       "       [29.03233649],\n",
       "       [39.48285837]])"
      ]
     },
     "execution_count": 63,
     "metadata": {},
     "output_type": "execute_result"
    }
   ],
   "source": [
    "model=LinearRegression()\n",
    "model.fit(x_train_trans,y_train)\n",
    "print(\"Score\",model.score(x_train_trans,y_train))\n",
    "model.predict(x_test_trans)"
   ]
  },
  {
   "cell_type": "code",
   "execution_count": null,
   "metadata": {},
   "outputs": [],
   "source": []
  }
 ],
 "metadata": {
  "kernelspec": {
   "display_name": "bostn",
   "language": "python",
   "name": "python3"
  },
  "language_info": {
   "codemirror_mode": {
    "name": "ipython",
    "version": 3
   },
   "file_extension": ".py",
   "mimetype": "text/x-python",
   "name": "python",
   "nbconvert_exporter": "python",
   "pygments_lexer": "ipython3",
   "version": "3.7.16"
  },
  "orig_nbformat": 4
 },
 "nbformat": 4,
 "nbformat_minor": 2
}
